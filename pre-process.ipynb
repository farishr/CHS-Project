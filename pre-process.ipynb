{
 "cells": [
  {
   "cell_type": "code",
   "execution_count": 5,
   "id": "459943d5",
   "metadata": {},
   "outputs": [
    {
     "name": "stderr",
     "output_type": "stream",
     "text": [
      "C:\\Users\\Admin\\AppData\\Local\\Temp\\ipykernel_14452\\111675825.py:3: DeprecationWarning: \n",
      "Pyarrow will become a required dependency of pandas in the next major release of pandas (pandas 3.0),\n",
      "(to allow more performant data types, such as the Arrow string type, and better interoperability with other libraries)\n",
      "but was not found to be installed on your system.\n",
      "If this would cause problems for you,\n",
      "please provide us feedback at https://github.com/pandas-dev/pandas/issues/54466\n",
      "        \n",
      "  import pandas as pd\n"
     ]
    }
   ],
   "source": [
    "import re\n",
    "import os\n",
    "import pandas as pd"
   ]
  },
  {
   "cell_type": "code",
   "execution_count": 1,
   "id": "fc73b444",
   "metadata": {},
   "outputs": [],
   "source": [
    "# Step 1: Clean Verilog Code\n",
    "def clean_verilog(code):\n",
    "    code = re.sub(r'//.*?$|/\\*.*?\\*/', '', code, flags=re.DOTALL | re.MULTILINE)\n",
    "    code = re.sub(r'\\b(trojan|trigger|payload|tj)\\b', '', code, flags=re.IGNORECASE)\n",
    "    code = re.sub(r'[\\n\\r]', ' ', code)\n",
    "    code = re.sub(r'\\s+', ' ', code)\n",
    "    return code.lower()"
   ]
  },
  {
   "cell_type": "code",
   "execution_count": 3,
   "id": "fa941595",
   "metadata": {},
   "outputs": [],
   "source": [
    "data = []\n",
    "subdir = 'Dataset3'\n",
    "\n",
    "for label_folder, label in [('TjFree', 0), ('TjIn', 1)]:\n",
    "    full_path = os.path.join(subdir, label_folder)\n",
    "    if not os.path.isdir(full_path):\n",
    "        continue\n",
    "\n",
    "    for fname in os.listdir(full_path):\n",
    "        if fname.endswith('.v'):\n",
    "            file_path = os.path.join(full_path, fname)\n",
    "            try:\n",
    "                with open(file_path, 'r', encoding='utf-8', errors='ignore') as f:\n",
    "                    code = clean_verilog(f.read())\n",
    "                    data.append({\n",
    "                        'filename': fname,\n",
    "                        'filepath': file_path,\n",
    "                        'label': label,\n",
    "                        'code': code\n",
    "                    })\n",
    "            except Exception as e:\n",
    "                print(f\"Failed to read {file_path}: {e}\")"
   ]
  },
  {
   "cell_type": "code",
   "execution_count": 8,
   "id": "c3305c1b",
   "metadata": {},
   "outputs": [],
   "source": [
    "df = pd.DataFrame(data)\n",
    "df.to_pickle(\"dataset.pkl\")"
   ]
  }
 ],
 "metadata": {
  "kernelspec": {
   "display_name": "Python 3",
   "language": "python",
   "name": "python3"
  },
  "language_info": {
   "codemirror_mode": {
    "name": "ipython",
    "version": 3
   },
   "file_extension": ".py",
   "mimetype": "text/x-python",
   "name": "python",
   "nbconvert_exporter": "python",
   "pygments_lexer": "ipython3",
   "version": "3.10.0"
  }
 },
 "nbformat": 4,
 "nbformat_minor": 5
}
