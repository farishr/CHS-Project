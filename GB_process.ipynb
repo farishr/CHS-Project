{
 "cells": [
  {
   "cell_type": "markdown",
   "id": "78c4c6c2",
   "metadata": {},
   "source": [
    "Gradient Boost Classification Using Ghost, WALLET, MINER and RISCV Dataset\n",
    "\n",
    "Accuracy: 99%"
   ]
  },
  {
   "cell_type": "code",
   "execution_count": 1,
   "id": "f18f5217",
   "metadata": {},
   "outputs": [],
   "source": [
    "import re\n",
    "import os\n",
    "import pandas as pd\n",
    "# import csv\n",
    "\n",
    "from sklearn.feature_extraction.text import TfidfVectorizer\n",
    "from sklearn.model_selection import train_test_split, GridSearchCV\n",
    "from sklearn.metrics import classification_report\n",
    "from imblearn.over_sampling import SMOTE\n",
    "from sklearn.ensemble import GradientBoostingClassifier\n",
    "\n",
    "import matplotlib.pyplot as plt\n",
    "from sklearn.metrics import roc_curve, auc"
   ]
  },
  {
   "cell_type": "code",
   "execution_count": 2,
   "id": "750b877b",
   "metadata": {},
   "outputs": [
    {
     "data": {
      "text/html": [
       "<div>\n",
       "<style scoped>\n",
       "    .dataframe tbody tr th:only-of-type {\n",
       "        vertical-align: middle;\n",
       "    }\n",
       "\n",
       "    .dataframe tbody tr th {\n",
       "        vertical-align: top;\n",
       "    }\n",
       "\n",
       "    .dataframe thead th {\n",
       "        text-align: right;\n",
       "    }\n",
       "</style>\n",
       "<table border=\"1\" class=\"dataframe\">\n",
       "  <thead>\n",
       "    <tr style=\"text-align: right;\">\n",
       "      <th></th>\n",
       "      <th>filename</th>\n",
       "      <th>filepath</th>\n",
       "      <th>label</th>\n",
       "      <th>code</th>\n",
       "    </tr>\n",
       "  </thead>\n",
       "  <tbody>\n",
       "    <tr>\n",
       "      <th>0</th>\n",
       "      <td>ALU_RV32I.v</td>\n",
       "      <td>dataset_synthetic\\TjFree\\ALU_RV32I.v</td>\n",
       "      <td>0</td>\n",
       "      <td>module alu_rv32i #(parameter n = 32) (input [n...</td>\n",
       "    </tr>\n",
       "    <tr>\n",
       "      <th>1</th>\n",
       "      <td>bip39.v</td>\n",
       "      <td>dataset_synthetic\\TjFree\\bip39.v</td>\n",
       "      <td>0</td>\n",
       "      <td>module bip39 ( input i_clk, input i_reset_n, i...</td>\n",
       "    </tr>\n",
       "    <tr>\n",
       "      <th>2</th>\n",
       "      <td>Branch_CTLR.v</td>\n",
       "      <td>dataset_synthetic\\TjFree\\Branch_CTLR.v</td>\n",
       "      <td>0</td>\n",
       "      <td>module branch_ctlr (input [2:0] branch_in, inp...</td>\n",
       "    </tr>\n",
       "    <tr>\n",
       "      <th>3</th>\n",
       "      <td>crypto_wallet2_top.v</td>\n",
       "      <td>dataset_synthetic\\TjFree\\crypto_wallet2_top.v</td>\n",
       "      <td>0</td>\n",
       "      <td>module crypto_wallet2_top ( input clock_50, ou...</td>\n",
       "    </tr>\n",
       "    <tr>\n",
       "      <th>4</th>\n",
       "      <td>CTLR_Unit_RV32I.v</td>\n",
       "      <td>dataset_synthetic\\TjFree\\CTLR_Unit_RV32I.v</td>\n",
       "      <td>0</td>\n",
       "      <td>module ctlr_unit_rv32i (input [6:0] op_code, f...</td>\n",
       "    </tr>\n",
       "    <tr>\n",
       "      <th>...</th>\n",
       "      <td>...</td>\n",
       "      <td>...</td>\n",
       "      <td>...</td>\n",
       "      <td>...</td>\n",
       "    </tr>\n",
       "    <tr>\n",
       "      <th>1043</th>\n",
       "      <td>sram_HT3_models_gemini-1.5-pro-latest_A1_clean...</td>\n",
       "      <td>GHOST_benchmarks-main\\TjIn\\sram_HT3_models_gem...</td>\n",
       "      <td>1</td>\n",
       "      <td>module sram_32x128_1rw ( clk0, csb0, web0, add...</td>\n",
       "    </tr>\n",
       "    <tr>\n",
       "      <th>1044</th>\n",
       "      <td>uart_rx_HT1_gpt-4_A1_cleaned.v</td>\n",
       "      <td>GHOST_benchmarks-main\\TjIn\\uart_rx_HT1_gpt-4_A...</td>\n",
       "      <td>1</td>\n",
       "      <td>module uart_rx( input wire clk , input wire re...</td>\n",
       "    </tr>\n",
       "    <tr>\n",
       "      <th>1045</th>\n",
       "      <td>uart_rx_HT1_models_gemini-1.5-pro-latest_A1_cl...</td>\n",
       "      <td>GHOST_benchmarks-main\\TjIn\\uart_rx_HT1_models_...</td>\n",
       "      <td>1</td>\n",
       "      <td>module uart_rx( input wire clk , input wire re...</td>\n",
       "    </tr>\n",
       "    <tr>\n",
       "      <th>1046</th>\n",
       "      <td>uart_rx_HT2_gpt-4_A1_cleaned.v</td>\n",
       "      <td>GHOST_benchmarks-main\\TjIn\\uart_rx_HT2_gpt-4_A...</td>\n",
       "      <td>1</td>\n",
       "      <td>module uart_rx( input wire te, input wire clk,...</td>\n",
       "    </tr>\n",
       "    <tr>\n",
       "      <th>1047</th>\n",
       "      <td>uart_rx_HT3_models_gemini-1.5-pro-latest_A1_cl...</td>\n",
       "      <td>GHOST_benchmarks-main\\TjIn\\uart_rx_HT3_models_...</td>\n",
       "      <td>1</td>\n",
       "      <td>module uart_rx( input wire clk , input wire re...</td>\n",
       "    </tr>\n",
       "  </tbody>\n",
       "</table>\n",
       "<p>1048 rows × 4 columns</p>\n",
       "</div>"
      ],
      "text/plain": [
       "                                               filename  \\\n",
       "0                                           ALU_RV32I.v   \n",
       "1                                               bip39.v   \n",
       "2                                         Branch_CTLR.v   \n",
       "3                                  crypto_wallet2_top.v   \n",
       "4                                     CTLR_Unit_RV32I.v   \n",
       "...                                                 ...   \n",
       "1043  sram_HT3_models_gemini-1.5-pro-latest_A1_clean...   \n",
       "1044                     uart_rx_HT1_gpt-4_A1_cleaned.v   \n",
       "1045  uart_rx_HT1_models_gemini-1.5-pro-latest_A1_cl...   \n",
       "1046                     uart_rx_HT2_gpt-4_A1_cleaned.v   \n",
       "1047  uart_rx_HT3_models_gemini-1.5-pro-latest_A1_cl...   \n",
       "\n",
       "                                               filepath  label  \\\n",
       "0                  dataset_synthetic\\TjFree\\ALU_RV32I.v      0   \n",
       "1                      dataset_synthetic\\TjFree\\bip39.v      0   \n",
       "2                dataset_synthetic\\TjFree\\Branch_CTLR.v      0   \n",
       "3         dataset_synthetic\\TjFree\\crypto_wallet2_top.v      0   \n",
       "4            dataset_synthetic\\TjFree\\CTLR_Unit_RV32I.v      0   \n",
       "...                                                 ...    ...   \n",
       "1043  GHOST_benchmarks-main\\TjIn\\sram_HT3_models_gem...      1   \n",
       "1044  GHOST_benchmarks-main\\TjIn\\uart_rx_HT1_gpt-4_A...      1   \n",
       "1045  GHOST_benchmarks-main\\TjIn\\uart_rx_HT1_models_...      1   \n",
       "1046  GHOST_benchmarks-main\\TjIn\\uart_rx_HT2_gpt-4_A...      1   \n",
       "1047  GHOST_benchmarks-main\\TjIn\\uart_rx_HT3_models_...      1   \n",
       "\n",
       "                                                   code  \n",
       "0     module alu_rv32i #(parameter n = 32) (input [n...  \n",
       "1     module bip39 ( input i_clk, input i_reset_n, i...  \n",
       "2     module branch_ctlr (input [2:0] branch_in, inp...  \n",
       "3     module crypto_wallet2_top ( input clock_50, ou...  \n",
       "4     module ctlr_unit_rv32i (input [6:0] op_code, f...  \n",
       "...                                                 ...  \n",
       "1043  module sram_32x128_1rw ( clk0, csb0, web0, add...  \n",
       "1044  module uart_rx( input wire clk , input wire re...  \n",
       "1045  module uart_rx( input wire clk , input wire re...  \n",
       "1046  module uart_rx( input wire te, input wire clk,...  \n",
       "1047  module uart_rx( input wire clk , input wire re...  \n",
       "\n",
       "[1048 rows x 4 columns]"
      ]
     },
     "execution_count": 2,
     "metadata": {},
     "output_type": "execute_result"
    }
   ],
   "source": [
    "df = pd.read_pickle(\"ghost_wallet_synthetic.pkl\")\n",
    "df"
   ]
  },
  {
   "cell_type": "code",
   "execution_count": 3,
   "id": "a4570450",
   "metadata": {},
   "outputs": [],
   "source": [
    "X_raw = df['code']\n",
    "y = df['label']"
   ]
  },
  {
   "cell_type": "code",
   "execution_count": 7,
   "id": "6e520b2e",
   "metadata": {},
   "outputs": [],
   "source": [
    "# Step 4: TF-IDF Vectorization with N-grams\n",
    "vectorizer = TfidfVectorizer(ngram_range=(1, 3), max_features=1000, stop_words=['module','endmodule','input','output','wire','assign','reg','always','begin','end'])\n",
    "X = vectorizer.fit_transform(X_raw)\n",
    "\n",
    "# Step 5: Resample with SMOTE\n",
    "smote = SMOTE(sampling_strategy='minority', k_neighbors = 5, random_state=42)\n",
    "X_resampled, y_resampled = smote.fit_resample(X, y)"
   ]
  },
  {
   "cell_type": "code",
   "execution_count": 8,
   "id": "c0d0a295",
   "metadata": {},
   "outputs": [],
   "source": [
    "# Step 6: Train-Test Split\n",
    "X_train, X_test, y_train, y_test = train_test_split(X_resampled, y_resampled, test_size=0.3, random_state=42)"
   ]
  },
  {
   "cell_type": "code",
   "execution_count": null,
   "id": "15e3c4b3",
   "metadata": {},
   "outputs": [
    {
     "name": "stdout",
     "output_type": "stream",
     "text": [
      "Best Parameters: {'learning_rate': 0.05, 'max_depth': 7, 'max_features': None, 'n_estimators': 300}\n",
      "              precision    recall  f1-score   support\n",
      "\n",
      "           0       0.98      0.99      0.99       288\n",
      "           1       0.99      0.98      0.99       321\n",
      "\n",
      "    accuracy                           0.99       609\n",
      "   macro avg       0.99      0.99      0.99       609\n",
      "weighted avg       0.99      0.99      0.99       609\n",
      "\n"
     ]
    }
   ],
   "source": [
    "param_grid = {\n",
    "    'n_estimators': [100, 200, 300],               # Number of boosting stages\n",
    "    'learning_rate': [0.01, 0.05, 0.1, 0.2],       # Shrinks contribution of each tree\n",
    "    'max_depth': [3, 5, 7, 10],                    # Max depth of individual estimators\n",
    "    'max_features': ['sqrt', 'log2', None]         # Number of features considered for each split\n",
    "}\n",
    "best_params = {'learning_rate': 0.05, 'max_depth': 7, 'max_features': None, 'n_estimators': 300}\n",
    "grid = GridSearchCV(GradientBoostingClassifier(random_state=42), param_grid, cv=5, n_jobs=-1)\n",
    "grid.fit(X_train, y_train)\n",
    "\n",
    "# Step 8: Evaluate Model\n",
    "y_pred = grid.predict(X_test)\n",
    "print(\"Best Parameters:\", grid.best_params_)\n",
    "print(classification_report(y_test, y_pred))\n"
   ]
  },
  {
   "cell_type": "code",
   "execution_count": 12,
   "id": "4a367ff4",
   "metadata": {},
   "outputs": [
    {
     "data": {
      "image/png": "[encoded data removed]",
      "text/plain": [
       "<Figure size 640x480 with 1 Axes>"
      ]
     },
     "metadata": {},
     "output_type": "display_data"
    }
   ],
   "source": [
    "# Compute ROC curve and AUC\n",
    "fpr, tpr, thresholds = roc_curve(y_test, y_pred)\n",
    "roc_auc = auc(fpr, tpr)\n",
    "\n",
    "# Plotting\n",
    "plt.figure()\n",
    "plt.plot(fpr, tpr, color='darkorange', lw=2, label=f'AUC = {roc_auc:.2f}')\n",
    "plt.plot([0, 1], [0, 1], color='navy', lw=2, linestyle='--')\n",
    "plt.xlabel('False Positive Rate')\n",
    "plt.ylabel('True Positive Rate')\n",
    "plt.title('ROC Curve - Gradient Boost')\n",
    "plt.legend(loc='lower right')\n",
    "plt.grid(True)\n",
    "plt.show()"
   ]
  }
 ],
 "metadata": {
  "kernelspec": {
   "display_name": "Python 3",
   "language": "python",
   "name": "python3"
  },
  "language_info": {
   "codemirror_mode": {
    "name": "ipython",
    "version": 3
   },
   "file_extension": ".py",
   "mimetype": "text/x-python",
   "name": "python",
   "nbconvert_exporter": "python",
   "pygments_lexer": "ipython3",
   "version": "3.11.9"
  }
 },
 "nbformat": 4,
 "nbformat_minor": 5
}
